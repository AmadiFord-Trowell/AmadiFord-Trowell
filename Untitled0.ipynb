{
  "nbformat": 4,
  "nbformat_minor": 0,
  "metadata": {
    "colab": {
      "provenance": [],
      "authorship_tag": "ABX9TyOmeTr+jbnXvZ3kbqcf7f+U",
      "include_colab_link": true
    },
    "kernelspec": {
      "name": "python3",
      "display_name": "Python 3"
    },
    "language_info": {
      "name": "python"
    }
  },
  "cells": [
    {
      "cell_type": "markdown",
      "metadata": {
        "id": "view-in-github",
        "colab_type": "text"
      },
      "source": [
        "<a href=\"https://colab.research.google.com/github/AmadiFord-Trowell/AmadiFord-Trowell/blob/main/Untitled0.ipynb\" target=\"_parent\"><img src=\"https://colab.research.google.com/assets/colab-badge.svg\" alt=\"Open In Colab\"/></a>"
      ]
    },
    {
      "cell_type": "code",
      "execution_count": null,
      "metadata": {
        "colab": {
          "base_uri": "https://localhost:8080/"
        },
        "id": "SzQpoeKvLFMh",
        "outputId": "51ad85aa-40ec-41f9-fd48-55dfc94eb51e"
      },
      "outputs": [
        {
          "output_type": "stream",
          "name": "stdout",
          "text": [
            "Manny Fort 35 6.1\n"
          ]
        }
      ],
      "source": [
        "name = \"Manny Fort\"\n",
        "age = 35\n",
        "height = 6.1\n",
        "\n",
        "print(name, age, height)\n"
      ]
    },
    {
      "cell_type": "code",
      "source": [
        "count = 12134\n",
        "count = count / 45\n",
        "print(count)"
      ],
      "metadata": {
        "colab": {
          "base_uri": "https://localhost:8080/"
        },
        "id": "HgZviDDxOAyl",
        "outputId": "90961d13-0fde-4c54-9ea7-1524d20f94b8"
      },
      "execution_count": null,
      "outputs": [
        {
          "output_type": "stream",
          "name": "stdout",
          "text": [
            "269.64444444444445\n"
          ]
        }
      ]
    },
    {
      "cell_type": "code",
      "source": [
        "Location = \"USA\"\n",
        "State = \"Washington\"\n",
        "City = \"Seattle\"\n",
        "Day = \"Friday\"\n",
        "print(Location, State, City, Day)"
      ],
      "metadata": {
        "colab": {
          "base_uri": "https://localhost:8080/"
        },
        "id": "LDLlPoPsR-EQ",
        "outputId": "8656ede8-0cf2-4c6e-eee8-26fa2944c13b"
      },
      "execution_count": null,
      "outputs": [
        {
          "output_type": "stream",
          "name": "stdout",
          "text": [
            "USA Washington Seattle Friday\n"
          ]
        }
      ]
    },
    {
      "cell_type": "code",
      "source": [
        "Age = 29\n",
        "Year = 2024 - Age\n",
        "print(\"Age:\", Age)\n",
        "print(\"Year:\", Year)"
      ],
      "metadata": {
        "colab": {
          "base_uri": "https://localhost:8080/"
        },
        "id": "GdtXT3mfT9Bo",
        "outputId": "4c7ebe97-e68a-41ce-a39f-f14c3c7a7015"
      },
      "execution_count": null,
      "outputs": [
        {
          "output_type": "stream",
          "name": "stdout",
          "text": [
            "Age: 29\n",
            "Year: 1995\n"
          ]
        }
      ]
    },
    {
      "cell_type": "code",
      "source": [
        "country = \"United States\"\n",
        "State = \"Washington\"\n",
        "City = \"Seattle\"\n",
        "Zip_code = 98108\n",
        "print(country)\n",
        "print(State)\n",
        "print(City)\n",
        "print(Zip_code)"
      ],
      "metadata": {
        "colab": {
          "base_uri": "https://localhost:8080/"
        },
        "id": "qia6e0EeXJnx",
        "outputId": "d30fa4fb-9bb2-4b4b-f6b9-6533586ffb6d"
      },
      "execution_count": null,
      "outputs": [
        {
          "output_type": "stream",
          "name": "stdout",
          "text": [
            "United States\n",
            "Washington\n",
            "Seattle\n",
            "98108\n"
          ]
        }
      ]
    },
    {
      "cell_type": "code",
      "source": [
        "filename = \"resume.pdf\"\n",
        "\n",
        "new_filename = filename.replace(\".pdf\", \".docx\") #We know the .pdf is be selected and chosen to be replaced because it is first in the script\n",
        "#since it is first we know thayt specifially is being replaces and not everythin else\n",
        "print(\"Old File Format\", filename)\n",
        "print(\"New File Fromat\", new_filename)"
      ],
      "metadata": {
        "colab": {
          "base_uri": "https://localhost:8080/"
        },
        "id": "8s8P8eQAbJRC",
        "outputId": "e9b90b7e-0046-40b9-d36b-34fc01ee521c"
      },
      "execution_count": null,
      "outputs": [
        {
          "output_type": "stream",
          "name": "stdout",
          "text": [
            "Old File Format resume.pdf\n",
            "New File Fromat resume.docx\n"
          ]
        }
      ]
    },
    {
      "cell_type": "code",
      "source": [
        "Name = \"Manny Fort\"\n",
        "Age = 35\n",
        "Height = 6.1\n",
        "new_name = Name.replace(\"Manny\", \"Amanda\") #How we know Amanda isn't replacing Fort for the last name is because we specified \"Manny\" so it thas to chanage that\n",
        "new_Age = Age - 6                  #new_age is th new variable so now age will subtract 6 to print us the new_age\n",
        "new_Height = Height - 0.4         #new_Height is the new variable so now height will subtract .4 and give us th new height\n",
        "print(new_name)\n",
        "print(new_Age)\n",
        "print(new_Height)"
      ],
      "metadata": {
        "colab": {
          "base_uri": "https://localhost:8080/"
        },
        "id": "Kq-x7cPic7Uv",
        "outputId": "3ba05696-1399-4be1-a603-8c16f3551ea7"
      },
      "execution_count": null,
      "outputs": [
        {
          "output_type": "stream",
          "name": "stdout",
          "text": [
            "Amanda Fort\n",
            "29\n",
            "5.699999999999999\n"
          ]
        }
      ]
    },
    {
      "cell_type": "code",
      "source": [
        "Old_Address = \"8919 Ebro Ct\"\n",
        "New_Address = Old_Address.replace(\"8919 Ebro Ct\", \"3939 15th Ave S\" )\n",
        "Old_State = \"OH\"\n",
        "New_State = Old_State.replace(\"OH\", \"WA\")\n",
        "Old_Zipcode = \"45219\"\n",
        "New_Zipcode = Old_Zipcode.replace(\"45219\", \"98108\") #Since I am replacing numbers There needs to be quotes arount New and Old\n",
        "print(New_Address)\n",
        "print(New_State)\n",
        "print(New_Zipcode)\n"
      ],
      "metadata": {
        "colab": {
          "base_uri": "https://localhost:8080/"
        },
        "id": "qR8Di7vPRPgU",
        "outputId": "b846b2e9-b831-40b8-f6f9-c53601a568a4"
      },
      "execution_count": 3,
      "outputs": [
        {
          "output_type": "stream",
          "name": "stdout",
          "text": [
            "3939 15th Ave S\n",
            "WA\n",
            "98108\n"
          ]
        }
      ]
    }
  ]
}